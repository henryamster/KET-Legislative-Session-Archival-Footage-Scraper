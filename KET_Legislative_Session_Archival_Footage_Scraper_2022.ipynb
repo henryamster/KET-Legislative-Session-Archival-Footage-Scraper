{
  "nbformat": 4,
  "nbformat_minor": 0,
  "metadata": {
    "colab": {
      "name": "KET Legislative Session Archival Footage Scraper 2022",
      "provenance": [],
      "authorship_tag": "ABX9TyOLvSwRfox1peOIT639DTQ/",
      "include_colab_link": true
    },
    "kernelspec": {
      "name": "python3",
      "display_name": "Python 3"
    },
    "language_info": {
      "name": "python"
    }
  },
  "cells": [
    {
      "cell_type": "markdown",
      "metadata": {
        "id": "view-in-github",
        "colab_type": "text"
      },
      "source": [
        "<a href=\"https://colab.research.google.com/github/henryamster/KET-Legislative-Session-Archival-Footage-Scraper/blob/main/KET_Legislative_Session_Archival_Footage_Scraper_2022.ipynb\" target=\"_parent\"><img src=\"https://colab.research.google.com/assets/colab-badge.svg\" alt=\"Open In Colab\"/></a>"
      ]
    },
    {
      "cell_type": "markdown",
      "source": [
        "## Download KET Legislative Session Archival Footage 2022"
      ],
      "metadata": {
        "id": "mYh6r4OENPrC"
      }
    },
    {
      "cell_type": "code",
      "execution_count": null,
      "metadata": {
        "cellView": "form",
        "id": "obh_jUdi49mI"
      },
      "outputs": [],
      "source": [
        "#@title Grab video content\n",
        "start = 1 #@param {type:\"number\"}\n",
        "end = 200 #@param {type:\"number\"}\n",
        "chunked_raw_url = 'https://5878fd1ed5422.streamlock.net/wordpress/_definst_/mp4:wgaos/wgaos_223291.mp4/media_w816149639_38.ts' #@param {type:\"string\"}\n",
        "\n",
        "!pip install pysrt\n",
        "import urllib.request\n",
        "import os\n",
        "import time\n",
        "from google.colab import files\n",
        "import pysrt\n",
        "import re\n",
        "\n",
        "stream_dir = '/content/stream'\n",
        "if not os.path.exists(stream_dir):\n",
        "    os.makedirs(stream_dir)\n",
        "else:\n",
        "    for f in os.listdir(stream_dir):\n",
        "        os.remove(os.path.join(stream_dir, f))\n",
        "\n",
        "url_trimmed= chunked_raw_url[0:chunked_raw_url.rfind('_')]\n",
        "\n",
        "for i in range(start, end):\n",
        "    time.sleep(1)\n",
        "    url = f'{url_trimmed}_{i}.ts'\n",
        "    urllib.request.urlretrieve(url, f'{stream_dir}/{i:04}.ts')\n",
        "    \n"
      ]
    },
    {
      "cell_type": "code",
      "source": [
        "#@title Merge all chunks into one, convert to MP4\n",
        "!cat /content/stream/*.ts > all.ts\n",
        "!ffmpeg -i all.ts -acodec copy -vcodec copy /content/stream/final.mp4\n",
        "!cat all.ts | ffmpeg -f lavfi -i 'movie=pipe\\\\:0[out+subcc]' -map s /content/stream/subtitles.srt\n",
        "\n"
      ],
      "metadata": {
        "cellView": "form",
        "id": "nhUIV7eC8SIM"
      },
      "execution_count": null,
      "outputs": []
    },
    {
      "cell_type": "code",
      "source": [
        "#@title Download video with closed captioning\n",
        "files.download(f'{stream_dir}/final.mp4') "
      ],
      "metadata": {
        "cellView": "form",
        "id": "zPL388W6T_0h"
      },
      "execution_count": null,
      "outputs": []
    },
    {
      "cell_type": "code",
      "source": [
        "#@title Convert captions to searchable text & download\n",
        "subs = pysrt.open(f'{stream_dir}/subtitles.srt')\n",
        "with open(f'{stream_dir}/text.html', 'w') as f:\n",
        "    for sub in subs:\n",
        "        f.write(re.sub('/{\\\\an7}/', \":\",str(sub.text)))\n",
        "        f.write('<br>')\n",
        "files.download(f'{stream_dir}/text.html')\n",
        "files.download(f'{stream_dir}/subtitles.srt')"
      ],
      "metadata": {
        "cellView": "form",
        "id": "TcOhjDygdH4V"
      },
      "execution_count": 55,
      "outputs": []
    }
  ]
}